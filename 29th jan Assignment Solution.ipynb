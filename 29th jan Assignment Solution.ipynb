{
 "cells": [
  {
   "cell_type": "code",
   "execution_count": 1,
   "id": "5d21f18f-5d25-4d4c-9a2c-08067e563a8f",
   "metadata": {},
   "outputs": [],
   "source": [
    "# Question 1:Who developed Python programming Language?"
   ]
  },
  {
   "cell_type": "code",
   "execution_count": 2,
   "id": "1e0d0b1a-135c-41f9-a51c-f0adec77cd8e",
   "metadata": {},
   "outputs": [],
   "source": [
    "#The Python programmming language was developed by Guido Van Rossum."
   ]
  },
  {
   "cell_type": "code",
   "execution_count": 3,
   "id": "a7662864-e764-45cd-8c66-d43dfc45d18b",
   "metadata": {},
   "outputs": [],
   "source": [
    "# Question 2: Which type of Programming does Pytho support?\n",
    "#Ans:Python supports several Programming paradigms and can be useful for Procedural Programming, Functional Programming and Object Oriented programming"
   ]
  },
  {
   "cell_type": "code",
   "execution_count": 4,
   "id": "17926d42-d84c-4dbf-9dda-bcff787d3ab4",
   "metadata": {},
   "outputs": [],
   "source": [
    "# Question 3: Is Python case sensitive when dealing Identifiers?\n",
    "#Ans: Yes, Python is case sensitive when dealing with Identifiers."
   ]
  },
  {
   "cell_type": "code",
   "execution_count": 5,
   "id": "e6664292-288f-4b4c-88a9-d7693830e19d",
   "metadata": {},
   "outputs": [],
   "source": [
    "# Question 4: What is the correct extension of Python files?\n",
    "#Ans: \".py\" is the correct extension of Python file."
   ]
  },
  {
   "cell_type": "code",
   "execution_count": 6,
   "id": "9a56082a-f97d-44f3-b2f8-e16348337a2c",
   "metadata": {},
   "outputs": [],
   "source": [
    "#Question 5: Is Python code compiled or interpreted?\n",
    "#Ans:Python code is interpreted."
   ]
  },
  {
   "cell_type": "code",
   "execution_count": 7,
   "id": "7566512a-694f-4d55-90bd-1cbb2e4d2120",
   "metadata": {},
   "outputs": [],
   "source": [
    "#Question 6: Name a few blocks of code used to define in Python language?\n",
    "#Ans: The blocks of code used to define in Python language are a Module, a Fuction body,class difinition."
   ]
  },
  {
   "cell_type": "code",
   "execution_count": 8,
   "id": "338fb911-0d69-471d-b5b2-a4da4fab1d0c",
   "metadata": {},
   "outputs": [],
   "source": [
    "#Question 7: State a character used to give single-line comments in Python?\n",
    "#Ans: # is the character used to give single-line comments in python."
   ]
  },
  {
   "cell_type": "code",
   "execution_count": 11,
   "id": "2226d3b1-3a54-4eb2-a8ee-f336568fb6e0",
   "metadata": {},
   "outputs": [],
   "source": [
    "#Question 8: Mentions functions which can help usto find the version of Python that we are currently working on?\n",
    "#Ans: sys.version, python_version(), python -V\n",
    "import sys"
   ]
  },
  {
   "cell_type": "code",
   "execution_count": 12,
   "id": "a0ccca0f-28e3-4876-b052-167b1b9cdfe0",
   "metadata": {},
   "outputs": [
    {
     "name": "stdout",
     "output_type": "stream",
     "text": [
      "The version of Python we are currently using is:  3.10.8 | packaged by conda-forge | (main, Nov 22 2022, 08:26:04) [GCC 10.4.0]\n"
     ]
    }
   ],
   "source": [
    "print(\"The version of Python we are currently using is: \", sys.version)"
   ]
  },
  {
   "cell_type": "code",
   "execution_count": 13,
   "id": "3b74d5b9-545c-4305-aaee-ea9fc0d00275",
   "metadata": {},
   "outputs": [
    {
     "name": "stdout",
     "output_type": "stream",
     "text": [
      "The Python version we are using is:  3.10.8\n"
     ]
    }
   ],
   "source": [
    "from platform import python_version\n",
    "print(\"The Python version we are using is: \", python_version())"
   ]
  },
  {
   "cell_type": "code",
   "execution_count": 17,
   "id": "9e82cf61-6d98-4c65-8194-6fe7832d3b39",
   "metadata": {},
   "outputs": [],
   "source": [
    "#Question 9: Python supports the creation of anonymous functions at runtime using a construct called...........\n",
    "#Ans: Lambda"
   ]
  },
  {
   "cell_type": "code",
   "execution_count": 18,
   "id": "9c1bf590-66f2-4110-8485-674977025768",
   "metadata": {},
   "outputs": [],
   "source": [
    "#Question 10: What does pip stand for?\n",
    "#Ans : Preffered Installer Program."
   ]
  },
  {
   "cell_type": "code",
   "execution_count": 19,
   "id": "a758cab2-6318-4261-b917-844ca49b01c4",
   "metadata": {},
   "outputs": [],
   "source": [
    "#question 11: Mention a few built-in functions in Python?\n",
    "#Ans: type(),str(),int(),float(),print(),isalnum(),isnum() etc."
   ]
  },
  {
   "cell_type": "code",
   "execution_count": 20,
   "id": "d82d0092-0dca-4dc3-b5a7-1102dd6f21cd",
   "metadata": {},
   "outputs": [],
   "source": [
    "#Question 12: What is the maximun possible length of an Identifier in Python?\n",
    "#Ans: The maximum possible length of an Identifier in python is 79 characters."
   ]
  },
  {
   "cell_type": "code",
   "execution_count": null,
   "id": "c544fdb8-fb40-40e7-a643-d5aa5076d576",
   "metadata": {},
   "outputs": [],
   "source": [
    "#Question 13: What are the benifits of using Python?\n",
    "#Ans: The benifits of using Python are:\n",
    "# 1.Python is easy to read, learn and write.\n",
    "\n",
    "# 2.Python is very productive language in the sense that the developers need to just focus on solving the problem withot worring the syntax\n",
    "# as the systax is simple\n",
    "\n",
    "# 3.Python is interpreted language so it executes the code line by line and thus stops the execution if it finds some error.\n",
    "\n",
    "# 4.Python is Dynamically typed, so are freed from worring about variable declarations.\n",
    "\n",
    "# 5. python is open source, you can download the source, modify it and then distribute you version.\n",
    "\n",
    "# 6.Pyhton hasn vast library support.\n",
    "\n",
    "# 7.Python is Portable and thus you need not to change your code on different platforms.\n"
   ]
  },
  {
   "cell_type": "code",
   "execution_count": null,
   "id": "fe996cb8-d023-4e35-8417-162b8c0e5b97",
   "metadata": {},
   "outputs": [],
   "source": [
    "# Question 14: How is memory managed in Python?\n",
    "# Ans:Python is a high-level programming language implemented in the C programming language.\n",
    "# The Python memory management system handles memory allocations in Python.\n",
    "# Python has a private heap that stores our program's objects and data structures.\n",
    "# Python memory manager takes care of the bulk of the memory management work.\n",
    "# There are two types of memory allocation in Python: static and dynamic.\n",
    "\n",
    "# 1. Static Memory Allocation:\n",
    "# The stack data structure provides static memory allocation, meaning the variables are in the stack memory. \n",
    "# Static variables are permanent and thus persist for the entire duration of program.\n",
    "# Another point is that we cannot reuse the memory allocated in Stack, so memory usesability is not possible.\n",
    "\n",
    "# 2. Dynamic Memory Allocation:\n",
    "# The dynamic memory allocation uses heap data structures in its implementation, implying that variables are in the heap memory.\n",
    "# As the name suggests, dynamically allocated variables are not permanent and can be changed while a program is running.\n",
    "# Additionally, allotted memory can be reused.\n",
    "# However,it takes longer to complete because dynamic memory allocation occurs during program execution.\n",
    "# Furthermore, after utilizing the allocated memory, we must release it.\n",
    "# Otherwise, problems such as memory leaks might arise.\n",
    "\n",
    "# The Python garbage collector handles memory allocation and deallocation automatically in Python.\n",
    "# The Python garbage collector handles memory allocation and deallocation automatically in Python."
   ]
  },
  {
   "cell_type": "code",
   "execution_count": 1,
   "id": "955f3bad-baed-43f9-b911-ec9b5f84f057",
   "metadata": {},
   "outputs": [],
   "source": [
    "# Question 15: How to install Python on Windows and set path variables?\n",
    "#Ans: The steps are as:\n",
    "# 1. Download the latest version of Python and install by following simple guideline provided during installation.\n",
    "# 2. Right-clicking This PC and going to Properties.\n",
    "\n",
    "# 3. licking on the Advanced system settings in the menu on the left.\n",
    "\n",
    "# 4. Clicking on the Environment Variables button on the bottom right.\n",
    "\n",
    "# 5. In the System variables section, selecting the Path variable and clicking on Edit.\n",
    "# The next screen will show all the directories that are currently a part of the PATH variable.\n",
    "\n",
    "# 6. Clicking on New and entering Python's install directory.\n",
    "\n",
    "# 7. Python can now be used directly from the command prompt without having to write its location"
   ]
  },
  {
   "cell_type": "code",
   "execution_count": null,
   "id": "7c19990f-8cc0-48c4-b559-e405f6f340dd",
   "metadata": {},
   "outputs": [],
   "source": [
    "#Question 16: Is Indentation required in Python?\n",
    "#Ans: Yes, Indentation is compulsory in Python, otherwise you will soon be in trouble."
   ]
  }
 ],
 "metadata": {
  "kernelspec": {
   "display_name": "Python 3 (ipykernel)",
   "language": "python",
   "name": "python3"
  },
  "language_info": {
   "codemirror_mode": {
    "name": "ipython",
    "version": 3
   },
   "file_extension": ".py",
   "mimetype": "text/x-python",
   "name": "python",
   "nbconvert_exporter": "python",
   "pygments_lexer": "ipython3",
   "version": "3.10.8"
  }
 },
 "nbformat": 4,
 "nbformat_minor": 5
}
