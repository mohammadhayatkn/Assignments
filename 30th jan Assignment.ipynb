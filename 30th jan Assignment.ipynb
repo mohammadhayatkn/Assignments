{
 "cells": [
  {
   "cell_type": "code",
   "execution_count": 18,
   "id": "41880c57-d515-4809-ad47-d5330056924e",
   "metadata": {
    "tags": []
   },
   "outputs": [
    {
     "name": "stdin",
     "output_type": "stream",
     "text": [
      "Enter your percentage 91\n"
     ]
    },
    {
     "name": "stdout",
     "output_type": "stream",
     "text": [
      "Well done, you have acheived Grade A\n"
     ]
    }
   ],
   "source": [
    "#Question 1 : Write a program to accept percenitage from the user and display the grade according the following criteria:\n",
    "#Solution:\n",
    "percentage = int(input(\"Enter your percentage\"))\n",
    "if percentage > 90 :\n",
    "    print(\"Well done, you have acheived Grade A\")\n",
    "elif percentage > 80 and percentage <= 90 :\n",
    "    print(\"Good, you have achieved Grade B\")\n",
    "elif percentage >= 60 and percentage <= 80 :\n",
    "    print(\"Well, you have achieved Grade C\")\n",
    "else :\n",
    "    print(\"You have achieved Grade D\")"
   ]
  },
  {
   "cell_type": "code",
   "execution_count": 19,
   "id": "790cf08d-d144-47be-a2e5-4d21a092e29d",
   "metadata": {},
   "outputs": [
    {
     "name": "stdin",
     "output_type": "stream",
     "text": [
      "Enter the cost of the bike 200000\n"
     ]
    },
    {
     "name": "stdout",
     "output_type": "stream",
     "text": [
      "The road tax to be paid is 30000.0\n"
     ]
    }
   ],
   "source": [
    "#Question 2: Write  aprogram to accept the cost proce of a bike and display the road tax to be paid according to the following criteria :\n",
    "#Solution:\n",
    "cost_bike = int(input(\"Enter the cost of the bike\"))\n",
    "if cost_bike > 100000 :\n",
    "    road_tax = (15/100) * cost_bike \n",
    "    print(\"The road tax to be paid is {0}\".format(road_tax))\n",
    "elif cost_bike > 50000 and cost_bike <= 100000 :\n",
    "    road_tax = (10/100) * cost_bike\n",
    "    print(\"The road tax to be paid is {0}\".format(road_tax))\n",
    "else :\n",
    "    road_tax = (5/100) * cost_bike\n",
    "    print(\"The road tax to be paid is {0}\".format(road_tax))\n"
   ]
  },
  {
   "cell_type": "code",
   "execution_count": 20,
   "id": "bbf31001-cf52-46ca-86df-0a196599ea2a",
   "metadata": {},
   "outputs": [
    {
     "name": "stdin",
     "output_type": "stream",
     "text": [
      "Enter the city Delhi\n"
     ]
    },
    {
     "name": "stdout",
     "output_type": "stream",
     "text": [
      "Monument is Red Fort\n"
     ]
    }
   ],
   "source": [
    "#Question 3 : Accept any city from the user and display the monuments of that city:\n",
    "#Solution:\n",
    "city = input(\"Enter the city\")\n",
    "if city == \"Delhi\" :\n",
    "    print(\"Monument is {0}\".format(\"Red Fort\"))\n",
    "elif city == \"Agra\" :\n",
    "    print(\"Monument is {0}\".format(\"Taj Mahal\"))\n",
    "elif city ==  \"Jaipur\" :\n",
    "    print(\"Monument is {0}\".format(\"Jal Mahal\"))"
   ]
  },
  {
   "cell_type": "code",
   "execution_count": 21,
   "id": "ca2f4dde-f98e-46f2-9069-d1603d13b802",
   "metadata": {},
   "outputs": [
    {
     "name": "stdin",
     "output_type": "stream",
     "text": [
      "Enter the number 45\n"
     ]
    },
    {
     "name": "stdout",
     "output_type": "stream",
     "text": [
      "2\n"
     ]
    }
   ],
   "source": [
    "#Question 4 : Check how many times a given number can be divided by 3 before it is less than or equal to 10\n",
    "#Solution :\n",
    "number = int(input(\"Enter the number\"))\n",
    "no_of_times = 0\n",
    "while number > 10 :\n",
    "    if number % 3 == 0 :\n",
    "        no_of_times = no_of_times + 1\n",
    "    number = number / 3\n",
    "print(no_of_times)"
   ]
  },
  {
   "cell_type": "code",
   "execution_count": 22,
   "id": "2d04871b-bb00-4b37-8155-92c3168d6f33",
   "metadata": {},
   "outputs": [
    {
     "name": "stdout",
     "output_type": "stream",
     "text": [
      "10\n",
      "9\n",
      "8\n",
      "7\n",
      "6\n",
      "5\n",
      "4\n",
      "3\n",
      "2\n",
      "1\n"
     ]
    }
   ],
   "source": [
    "#Question 5 : Why and when to use while loops in python, give a detailed description with example.\n",
    "#Solution :\n",
    "# while loops are used when we want the block of code under the while loop to be executed as long as the condition\n",
    "# is true\n",
    "# for example if we want to print the first 10 numbers in decreasing order then the code will be as:\n",
    "i = 10\n",
    "while i >= 1 :\n",
    "    print(i)\n",
    "    i = i - 1"
   ]
  },
  {
   "cell_type": "code",
   "execution_count": 23,
   "id": "f751178f-62cf-488b-b8a3-023ddc325acc",
   "metadata": {},
   "outputs": [
    {
     "name": "stdout",
     "output_type": "stream",
     "text": [
      "*  \n",
      "* *  \n",
      "* * *  \n",
      "* * * *  \n",
      "* * * * *  \n",
      "* * * * * *  \n",
      "* * * * * * *  \n",
      "* * * * * * * *  \n",
      "* * * * * * * * *  \n",
      "* * * * * * * * * *  \n"
     ]
    }
   ],
   "source": [
    "#Question 6 : Use nested while loops to print 3 different patterns.\n",
    "#Solution : \n",
    "i = 1\n",
    "while i <= 10 :\n",
    "    j = 1\n",
    "    while j <= i : \n",
    "        print(\"*\", end = \" \")\n",
    "        j = j + 1\n",
    "    print(\" \")\n",
    "    i = i + 1\n",
    "        \n",
    "        "
   ]
  },
  {
   "cell_type": "code",
   "execution_count": 24,
   "id": "3cd7f291-aab6-4316-8bcd-c697eac72d2a",
   "metadata": {},
   "outputs": [
    {
     "name": "stdout",
     "output_type": "stream",
     "text": [
      "* * * * * * * * * * \n",
      "* * * * * * * * * \n",
      "* * * * * * * * \n",
      "* * * * * * * \n",
      "* * * * * * \n",
      "* * * * * \n",
      "* * * * \n",
      "* * * \n",
      "* * \n",
      "* \n"
     ]
    }
   ],
   "source": [
    "i = 10\n",
    "while i >= 1 :\n",
    "    j = 1\n",
    "    while j <= i : \n",
    "        print(\"*\", end = \" \")\n",
    "        j = j + 1\n",
    "    print(\"\")\n",
    "    i = i - 1"
   ]
  },
  {
   "cell_type": "code",
   "execution_count": 25,
   "id": "4cec45f6-795f-4502-8fe6-6b84a43e8eff",
   "metadata": {},
   "outputs": [
    {
     "name": "stdout",
     "output_type": "stream",
     "text": [
      "*  \n",
      "* *  \n",
      "* * *  \n",
      "* * * *  \n",
      "* * * * *  \n",
      "* * * * * *  \n",
      "* * * * * * *  \n",
      "* * * * * * * *  \n",
      "* * * * * * * * *  \n",
      "* * * * * * * * * *  \n",
      "* * * * * * * * * * \n",
      "* * * * * * * * * \n",
      "* * * * * * * * \n",
      "* * * * * * * \n",
      "* * * * * * \n",
      "* * * * * \n",
      "* * * * \n",
      "* * * \n",
      "* * \n",
      "* \n"
     ]
    }
   ],
   "source": [
    "i = 1\n",
    "while i <= 10 :\n",
    "    j = 1\n",
    "    while j <= i : \n",
    "        print(\"*\", end = \" \")\n",
    "        j = j + 1\n",
    "    print(\" \")\n",
    "    i = i + 1\n",
    "i = 10\n",
    "while i >= 1 :\n",
    "    j = 1\n",
    "    while j <= i : \n",
    "        print(\"*\", end = \" \")\n",
    "        j = j + 1\n",
    "    print(\"\")\n",
    "    i = i - 1"
   ]
  },
  {
   "cell_type": "code",
   "execution_count": 26,
   "id": "cf47b7cf-489e-4550-a2a5-69733db70f00",
   "metadata": {},
   "outputs": [
    {
     "name": "stdout",
     "output_type": "stream",
     "text": [
      "10\n",
      "9\n",
      "8\n",
      "7\n",
      "6\n",
      "5\n",
      "4\n",
      "3\n",
      "2\n",
      "1\n"
     ]
    }
   ],
   "source": [
    "#Question 7 : Reverse a while loop to display the numbers from 10 to 1\n",
    "#Solution :\n",
    "i = 10\n",
    "while i >= 1 :\n",
    "    print(i)\n",
    "    i = i - 1"
   ]
  },
  {
   "cell_type": "code",
   "execution_count": 28,
   "id": "ef87ba53-adc4-4ffb-a8cb-1798dc40de94",
   "metadata": {},
   "outputs": [
    {
     "name": "stdout",
     "output_type": "stream",
     "text": [
      "10\n",
      "9\n",
      "8\n",
      "7\n",
      "6\n",
      "5\n",
      "4\n",
      "3\n",
      "2\n",
      "1\n"
     ]
    }
   ],
   "source": [
    "#Question 8 : Reverse a while loop to display numbers from 10 to 1.\n",
    "# Solution :\n",
    "i = 10\n",
    "while i >= 1 :\n",
    "    print(i)\n",
    "    i = i - 1"
   ]
  },
  {
   "cell_type": "code",
   "execution_count": null,
   "id": "7909f7f0-2f48-4f7f-ac2f-6cc90b0ee321",
   "metadata": {},
   "outputs": [],
   "source": []
  }
 ],
 "metadata": {
  "kernelspec": {
   "display_name": "Python 3 (ipykernel)",
   "language": "python",
   "name": "python3"
  },
  "language_info": {
   "codemirror_mode": {
    "name": "ipython",
    "version": 3
   },
   "file_extension": ".py",
   "mimetype": "text/x-python",
   "name": "python",
   "nbconvert_exporter": "python",
   "pygments_lexer": "ipython3",
   "version": "3.10.8"
  }
 },
 "nbformat": 4,
 "nbformat_minor": 5
}
