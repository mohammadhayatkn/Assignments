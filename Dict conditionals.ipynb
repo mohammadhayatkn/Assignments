{
 "cells": [
  {
   "cell_type": "code",
   "execution_count": 1,
   "id": "8c0a9a14-25ec-4a41-ae10-345a18914d42",
   "metadata": {},
   "outputs": [],
   "source": [
    "# Dictionaries in Pyhton.key should be unique always"
   ]
  },
  {
   "cell_type": "code",
   "execution_count": 2,
   "id": "6892df50-8641-462f-9ed2-5a8312fc7a18",
   "metadata": {},
   "outputs": [],
   "source": [
    "d = {}"
   ]
  },
  {
   "cell_type": "code",
   "execution_count": 3,
   "id": "65c7e06b-50d8-4017-9142-6f9cd2352a6b",
   "metadata": {},
   "outputs": [
    {
     "data": {
      "text/plain": [
       "dict"
      ]
     },
     "execution_count": 3,
     "metadata": {},
     "output_type": "execute_result"
    }
   ],
   "source": [
    "type(d)"
   ]
  },
  {
   "cell_type": "code",
   "execution_count": 4,
   "id": "cb9a194c-b3ae-47e8-b930-ba8e5923692d",
   "metadata": {},
   "outputs": [],
   "source": [
    "d1 = {'key' : 'hayat'}"
   ]
  },
  {
   "cell_type": "code",
   "execution_count": 5,
   "id": "e80c1d40-1ac4-4d52-a9a1-c80a4783eb47",
   "metadata": {},
   "outputs": [
    {
     "data": {
      "text/plain": [
       "{'key': 'hayat'}"
      ]
     },
     "execution_count": 5,
     "metadata": {},
     "output_type": "execute_result"
    }
   ],
   "source": [
    "d1"
   ]
  },
  {
   "cell_type": "code",
   "execution_count": 6,
   "id": "4e98f6da-96bc-4385-916f-c81bb9a3843e",
   "metadata": {},
   "outputs": [],
   "source": [
    "d2 = {'name' : 'hayat', 'email' : 'hayat@gmail.com', 'number' : 54637}"
   ]
  },
  {
   "cell_type": "code",
   "execution_count": 7,
   "id": "54713ba9-6a49-48c1-8e77-fb9ea27c0161",
   "metadata": {},
   "outputs": [
    {
     "data": {
      "text/plain": [
       "{'name': 'hayat', 'email': 'hayat@gmail.com', 'number': 54637}"
      ]
     },
     "execution_count": 7,
     "metadata": {},
     "output_type": "execute_result"
    }
   ],
   "source": [
    "d2"
   ]
  },
  {
   "cell_type": "code",
   "execution_count": 8,
   "id": "a9877195-de52-491a-95c8-cb76aad9c150",
   "metadata": {},
   "outputs": [
    {
     "ename": "SyntaxError",
     "evalue": "invalid syntax (1103608571.py, line 1)",
     "output_type": "error",
     "traceback": [
      "\u001b[0;36m  Cell \u001b[0;32mIn[8], line 1\u001b[0;36m\u001b[0m\n\u001b[0;31m    d3 = {234 : \"hayat\", @ter : \"khan\"}\u001b[0m\n\u001b[0m                         ^\u001b[0m\n\u001b[0;31mSyntaxError\u001b[0m\u001b[0;31m:\u001b[0m invalid syntax\n"
     ]
    }
   ],
   "source": [
    "d3 = {234 : \"hayat\", @ter : \"khan\"}"
   ]
  },
  {
   "cell_type": "code",
   "execution_count": 9,
   "id": "3b6fa8ca-fbf0-44a3-b066-adc684dd6d4e",
   "metadata": {},
   "outputs": [
    {
     "ename": "NameError",
     "evalue": "name '_ter' is not defined",
     "output_type": "error",
     "traceback": [
      "\u001b[0;31m---------------------------------------------------------------------------\u001b[0m",
      "\u001b[0;31mNameError\u001b[0m                                 Traceback (most recent call last)",
      "Cell \u001b[0;32mIn[9], line 1\u001b[0m\n\u001b[0;32m----> 1\u001b[0m d3 \u001b[38;5;241m=\u001b[39m {\u001b[38;5;241m234\u001b[39m : \u001b[38;5;124m\"\u001b[39m\u001b[38;5;124mhayat\u001b[39m\u001b[38;5;124m\"\u001b[39m, \u001b[43m_ter\u001b[49m : \u001b[38;5;124m\"\u001b[39m\u001b[38;5;124mkhan\u001b[39m\u001b[38;5;124m\"\u001b[39m}\n",
      "\u001b[0;31mNameError\u001b[0m: name '_ter' is not defined"
     ]
    }
   ],
   "source": [
    "d3 = {234 : \"hayat\", _ter : \"khan\"}"
   ]
  },
  {
   "cell_type": "code",
   "execution_count": null,
   "id": "91c869c6-d3e9-41c2-9f2e-9ee9a16a8913",
   "metadata": {},
   "outputs": [],
   "source": [
    "d3 = {234 : \"hayat\", '@ter' : \"khan\"}"
   ]
  },
  {
   "cell_type": "code",
   "execution_count": 17,
   "id": "52ecb4a2-16fe-42fb-b5a2-f5d0f2fdb70f",
   "metadata": {},
   "outputs": [],
   "source": [
    "d3 = {234 : \"hayat\", '@ter' : \"khan\", True : 353535}"
   ]
  },
  {
   "cell_type": "code",
   "execution_count": 18,
   "id": "be876002-6df5-415f-b9d5-af9875fa7ec1",
   "metadata": {},
   "outputs": [
    {
     "data": {
      "text/plain": [
       "{234: 'hayat', '@ter': 'khan', True: 353535}"
      ]
     },
     "execution_count": 18,
     "metadata": {},
     "output_type": "execute_result"
    }
   ],
   "source": [
    "d3"
   ]
  },
  {
   "cell_type": "code",
   "execution_count": 19,
   "id": "b8744aad-01bb-4b64-8c2a-d96a89d53cd4",
   "metadata": {},
   "outputs": [
    {
     "data": {
      "text/plain": [
       "'hayat'"
      ]
     },
     "execution_count": 19,
     "metadata": {},
     "output_type": "execute_result"
    }
   ],
   "source": [
    "d3[234]"
   ]
  },
  {
   "cell_type": "code",
   "execution_count": 20,
   "id": "3cbf55f6-7edb-488c-9bc0-604f3203ff46",
   "metadata": {},
   "outputs": [
    {
     "data": {
      "text/plain": [
       "353535"
      ]
     },
     "execution_count": 20,
     "metadata": {},
     "output_type": "execute_result"
    }
   ],
   "source": [
    "d3[True]"
   ]
  },
  {
   "cell_type": "code",
   "execution_count": 21,
   "id": "3fe65275-55db-442e-a67b-e787bc2df13a",
   "metadata": {},
   "outputs": [
    {
     "data": {
      "text/plain": [
       "353535"
      ]
     },
     "execution_count": 21,
     "metadata": {},
     "output_type": "execute_result"
    }
   ],
   "source": [
    "d3[1]"
   ]
  },
  {
   "cell_type": "code",
   "execution_count": 22,
   "id": "66fd7e83-8cdf-4340-883d-316799e3fafe",
   "metadata": {},
   "outputs": [
    {
     "ename": "KeyError",
     "evalue": "3",
     "output_type": "error",
     "traceback": [
      "\u001b[0;31m---------------------------------------------------------------------------\u001b[0m",
      "\u001b[0;31mKeyError\u001b[0m                                  Traceback (most recent call last)",
      "Cell \u001b[0;32mIn[22], line 1\u001b[0m\n\u001b[0;32m----> 1\u001b[0m \u001b[43md3\u001b[49m\u001b[43m[\u001b[49m\u001b[38;5;241;43m3\u001b[39;49m\u001b[43m]\u001b[49m\n",
      "\u001b[0;31mKeyError\u001b[0m: 3"
     ]
    }
   ],
   "source": [
    "d3[3]"
   ]
  },
  {
   "cell_type": "code",
   "execution_count": 23,
   "id": "3fb7865f-1344-497c-aef9-1898fa4de3aa",
   "metadata": {},
   "outputs": [],
   "source": [
    "d4 = {'name' : 'hayat', 'mail_id' : 'hayat@.com', 'name' : 'hayatkhan'}"
   ]
  },
  {
   "cell_type": "code",
   "execution_count": 24,
   "id": "093499ac-02c8-4c24-a668-4a3e90cbf4a4",
   "metadata": {},
   "outputs": [
    {
     "data": {
      "text/plain": [
       "{'name': 'hayatkhan', 'mail_id': 'hayat@.com'}"
      ]
     },
     "execution_count": 24,
     "metadata": {},
     "output_type": "execute_result"
    }
   ],
   "source": [
    "d4"
   ]
  },
  {
   "cell_type": "code",
   "execution_count": 26,
   "id": "4ea64f5e-aa1b-4d48-bbe6-700c4da9c30e",
   "metadata": {},
   "outputs": [
    {
     "data": {
      "text/plain": [
       "'hayatkhan'"
      ]
     },
     "execution_count": 26,
     "metadata": {},
     "output_type": "execute_result"
    }
   ],
   "source": [
    "d4['name']"
   ]
  },
  {
   "cell_type": "code",
   "execution_count": 27,
   "id": "73c58fd8-6712-444f-a240-ad4aab6b909c",
   "metadata": {},
   "outputs": [],
   "source": [
    "d5 = {\"company\" : \"pwskills\", \"courses\" :[\"web dev\", \"data science\", \"java with system design\"]}"
   ]
  },
  {
   "cell_type": "code",
   "execution_count": 28,
   "id": "a8443286-ae9a-47ba-8819-33208f763228",
   "metadata": {},
   "outputs": [
    {
     "data": {
      "text/plain": [
       "['web dev', 'data science', 'java with system design']"
      ]
     },
     "execution_count": 28,
     "metadata": {},
     "output_type": "execute_result"
    }
   ],
   "source": [
    "d5['courses']"
   ]
  },
  {
   "cell_type": "code",
   "execution_count": 31,
   "id": "e5196a9c-1e01-4506-a433-1d4444eb4646",
   "metadata": {},
   "outputs": [],
   "source": [
    "d6 = {\"number\" : [2,34,3,34,34], \"assignment\" :(1,2,3,4,5,6), \"lanch_date\" :{28,12,14}, \"class_timing\":{'web_dev' : 8, \"data_science\" :8, \"java\" : 7}}"
   ]
  },
  {
   "cell_type": "code",
   "execution_count": 32,
   "id": "e886ac1c-1bdb-457f-a21b-75b18698d0d7",
   "metadata": {},
   "outputs": [
    {
     "data": {
      "text/plain": [
       "{'number': [2, 34, 3, 34, 34],\n",
       " 'assignment': (1, 2, 3, 4, 5, 6),\n",
       " 'lanch_date': {12, 14, 28},\n",
       " 'class_timing': {'web_dev': 8, 'data_science': 8, 'java': 7}}"
      ]
     },
     "execution_count": 32,
     "metadata": {},
     "output_type": "execute_result"
    }
   ],
   "source": [
    "d6"
   ]
  },
  {
   "cell_type": "code",
   "execution_count": 34,
   "id": "d68ce789-03dd-4856-96b5-4f358ce978bc",
   "metadata": {},
   "outputs": [
    {
     "data": {
      "text/plain": [
       "7"
      ]
     },
     "execution_count": 34,
     "metadata": {},
     "output_type": "execute_result"
    }
   ],
   "source": [
    "d6['class_timing']['java']"
   ]
  },
  {
   "cell_type": "code",
   "execution_count": 35,
   "id": "b6b47292-4f49-4d5c-898f-42111046f23d",
   "metadata": {},
   "outputs": [
    {
     "data": {
      "text/plain": [
       "{'number': [2, 34, 3, 34, 34],\n",
       " 'assignment': (1, 2, 3, 4, 5, 6),\n",
       " 'lanch_date': {12, 14, 28},\n",
       " 'class_timing': {'web_dev': 8, 'data_science': 8, 'java': 7}}"
      ]
     },
     "execution_count": 35,
     "metadata": {},
     "output_type": "execute_result"
    }
   ],
   "source": [
    "d6"
   ]
  },
  {
   "cell_type": "code",
   "execution_count": 36,
   "id": "1ecabe5d-078c-4ca8-bce4-05399ccfa50a",
   "metadata": {},
   "outputs": [],
   "source": [
    "d6['mentor'] = [\"hayatkhan\", \"hayat\", \"athar\", \"hayder\"]"
   ]
  },
  {
   "cell_type": "code",
   "execution_count": 37,
   "id": "0fdd1036-ee75-4b9d-b690-29ce2a64c560",
   "metadata": {},
   "outputs": [
    {
     "data": {
      "text/plain": [
       "{'number': [2, 34, 3, 34, 34],\n",
       " 'assignment': (1, 2, 3, 4, 5, 6),\n",
       " 'lanch_date': {12, 14, 28},\n",
       " 'class_timing': {'web_dev': 8, 'data_science': 8, 'java': 7},\n",
       " 'mentor': ['hayatkhan', 'hayat', 'athar', 'hayder']}"
      ]
     },
     "execution_count": 37,
     "metadata": {},
     "output_type": "execute_result"
    }
   ],
   "source": [
    "d6"
   ]
  },
  {
   "cell_type": "code",
   "execution_count": 38,
   "id": "a644e9cf-27f5-4e3e-884f-1c5194caa4c4",
   "metadata": {},
   "outputs": [],
   "source": [
    "del d6[\"number\"]"
   ]
  },
  {
   "cell_type": "code",
   "execution_count": 39,
   "id": "19dd84a6-b01f-45b7-9fe5-093e2dcd642e",
   "metadata": {},
   "outputs": [
    {
     "data": {
      "text/plain": [
       "{'assignment': (1, 2, 3, 4, 5, 6),\n",
       " 'lanch_date': {12, 14, 28},\n",
       " 'class_timing': {'web_dev': 8, 'data_science': 8, 'java': 7},\n",
       " 'mentor': ['hayatkhan', 'hayat', 'athar', 'hayder']}"
      ]
     },
     "execution_count": 39,
     "metadata": {},
     "output_type": "execute_result"
    }
   ],
   "source": [
    "d6"
   ]
  },
  {
   "cell_type": "code",
   "execution_count": 40,
   "id": "b884f659-0009-4280-889e-9de50aebe1b0",
   "metadata": {},
   "outputs": [
    {
     "data": {
      "text/plain": [
       "dict_keys(['assignment', 'lanch_date', 'class_timing', 'mentor'])"
      ]
     },
     "execution_count": 40,
     "metadata": {},
     "output_type": "execute_result"
    }
   ],
   "source": [
    "d6.keys()"
   ]
  },
  {
   "cell_type": "code",
   "execution_count": 41,
   "id": "6e090e71-ca7e-49f9-a263-2ce909732029",
   "metadata": {},
   "outputs": [
    {
     "data": {
      "text/plain": [
       "['assignment', 'lanch_date', 'class_timing', 'mentor']"
      ]
     },
     "execution_count": 41,
     "metadata": {},
     "output_type": "execute_result"
    }
   ],
   "source": [
    "list(d6.keys())"
   ]
  },
  {
   "cell_type": "code",
   "execution_count": 42,
   "id": "c3e2b4cc-98cc-462d-a098-fb2b857becef",
   "metadata": {},
   "outputs": [
    {
     "data": {
      "text/plain": [
       "dict_values([(1, 2, 3, 4, 5, 6), {28, 12, 14}, {'web_dev': 8, 'data_science': 8, 'java': 7}, ['hayatkhan', 'hayat', 'athar', 'hayder']])"
      ]
     },
     "execution_count": 42,
     "metadata": {},
     "output_type": "execute_result"
    }
   ],
   "source": [
    "d6.values()"
   ]
  },
  {
   "cell_type": "code",
   "execution_count": 43,
   "id": "5b3cd2e5-76a5-487d-b4b5-31da4115c66d",
   "metadata": {},
   "outputs": [
    {
     "data": {
      "text/plain": [
       "[(1, 2, 3, 4, 5, 6),\n",
       " {12, 14, 28},\n",
       " {'web_dev': 8, 'data_science': 8, 'java': 7},\n",
       " ['hayatkhan', 'hayat', 'athar', 'hayder']]"
      ]
     },
     "execution_count": 43,
     "metadata": {},
     "output_type": "execute_result"
    }
   ],
   "source": [
    "list(d6.values())"
   ]
  },
  {
   "cell_type": "code",
   "execution_count": 45,
   "id": "fcda6279-8270-4ca5-88da-008ce6fa5196",
   "metadata": {},
   "outputs": [
    {
     "data": {
      "text/plain": [
       "[('assignment', (1, 2, 3, 4, 5, 6)),\n",
       " ('lanch_date', {12, 14, 28}),\n",
       " ('class_timing', {'web_dev': 8, 'data_science': 8, 'java': 7}),\n",
       " ('mentor', ['hayatkhan', 'hayat', 'athar', 'hayder'])]"
      ]
     },
     "execution_count": 45,
     "metadata": {},
     "output_type": "execute_result"
    }
   ],
   "source": [
    "list(d6.items())"
   ]
  },
  {
   "cell_type": "code",
   "execution_count": 46,
   "id": "a11cf3c3-5438-4678-8d7b-df3563bb6ea8",
   "metadata": {},
   "outputs": [
    {
     "data": {
      "text/plain": [
       "(1, 2, 3, 4, 5, 6)"
      ]
     },
     "execution_count": 46,
     "metadata": {},
     "output_type": "execute_result"
    }
   ],
   "source": [
    "d6.pop(\"assignment\")"
   ]
  },
  {
   "cell_type": "code",
   "execution_count": 47,
   "id": "12fcf41b-1aa6-43c4-a2ca-49a5c0f2adc6",
   "metadata": {},
   "outputs": [
    {
     "data": {
      "text/plain": [
       "{'lanch_date': {12, 14, 28},\n",
       " 'class_timing': {'web_dev': 8, 'data_science': 8, 'java': 7},\n",
       " 'mentor': ['hayatkhan', 'hayat', 'athar', 'hayder']}"
      ]
     },
     "execution_count": 47,
     "metadata": {},
     "output_type": "execute_result"
    }
   ],
   "source": [
    "d6"
   ]
  },
  {
   "cell_type": "code",
   "execution_count": 48,
   "id": "6c826059-4436-4f05-b761-f5354d9d52c9",
   "metadata": {},
   "outputs": [
    {
     "ename": "TypeError",
     "evalue": "pop expected at least 1 argument, got 0",
     "output_type": "error",
     "traceback": [
      "\u001b[0;31m---------------------------------------------------------------------------\u001b[0m",
      "\u001b[0;31mTypeError\u001b[0m                                 Traceback (most recent call last)",
      "Cell \u001b[0;32mIn[48], line 1\u001b[0m\n\u001b[0;32m----> 1\u001b[0m \u001b[43md6\u001b[49m\u001b[38;5;241;43m.\u001b[39;49m\u001b[43mpop\u001b[49m\u001b[43m(\u001b[49m\u001b[43m)\u001b[49m\n",
      "\u001b[0;31mTypeError\u001b[0m: pop expected at least 1 argument, got 0"
     ]
    }
   ],
   "source": [
    "d6.pop()"
   ]
  },
  {
   "cell_type": "code",
   "execution_count": 49,
   "id": "9f4dc889-7a75-40ec-9cfc-d665188eaa9c",
   "metadata": {},
   "outputs": [],
   "source": [
    "# dictionay is a mutable object"
   ]
  },
  {
   "cell_type": "code",
   "execution_count": 50,
   "id": "7bcf3b68-4014-401d-a3d8-0aad15a57d9f",
   "metadata": {},
   "outputs": [],
   "source": [
    "# control flow in Python"
   ]
  },
  {
   "cell_type": "code",
   "execution_count": 53,
   "id": "61f9a795-1568-42bb-81a9-70a0393a7ea2",
   "metadata": {},
   "outputs": [
    {
     "name": "stdout",
     "output_type": "stream",
     "text": [
      "You will be the part of A3 batch\n"
     ]
    }
   ],
   "source": [
    "marks = 10\n",
    "if marks >= 80:\n",
    "    print(\"You will be a part of A0 batch\")\n",
    "elif marks >= 60 and marks < 80: \n",
    "    print(\"You will bw a part of A1 batch\")\n",
    "elif marks >= 40 and marks < 60:\n",
    "    print(\"You will be a part of A2 batch\")\n",
    "else:\n",
    "    print(\"You will be the part of A3 batch\")\n",
    "    "
   ]
  },
  {
   "cell_type": "code",
   "execution_count": 54,
   "id": "87f98905-1b73-4f2a-a4c3-a2f0daf0f7c3",
   "metadata": {},
   "outputs": [
    {
     "data": {
      "text/plain": [
       "False"
      ]
     },
     "execution_count": 54,
     "metadata": {},
     "output_type": "execute_result"
    }
   ],
   "source": [
    "10 >= 80"
   ]
  },
  {
   "cell_type": "code",
   "execution_count": 56,
   "id": "fcaf977b-e6ea-4fa3-b6cf-be846810c62d",
   "metadata": {},
   "outputs": [
    {
     "name": "stdin",
     "output_type": "stream",
     "text": [
      "Enter your marks 45\n"
     ]
    },
    {
     "ename": "TypeError",
     "evalue": "'>=' not supported between instances of 'str' and 'int'",
     "output_type": "error",
     "traceback": [
      "\u001b[0;31m---------------------------------------------------------------------------\u001b[0m",
      "\u001b[0;31mTypeError\u001b[0m                                 Traceback (most recent call last)",
      "Cell \u001b[0;32mIn[56], line 2\u001b[0m\n\u001b[1;32m      1\u001b[0m marks \u001b[38;5;241m=\u001b[39m \u001b[38;5;28minput\u001b[39m(\u001b[38;5;124m\"\u001b[39m\u001b[38;5;124mEnter your marks\u001b[39m\u001b[38;5;124m\"\u001b[39m)\n\u001b[0;32m----> 2\u001b[0m \u001b[38;5;28;01mif\u001b[39;00m \u001b[43mmarks\u001b[49m\u001b[43m \u001b[49m\u001b[38;5;241;43m>\u001b[39;49m\u001b[38;5;241;43m=\u001b[39;49m\u001b[43m \u001b[49m\u001b[38;5;241;43m80\u001b[39;49m:\n\u001b[1;32m      3\u001b[0m     \u001b[38;5;28mprint\u001b[39m(\u001b[38;5;124m\"\u001b[39m\u001b[38;5;124mYou will be a part of A0 batch\u001b[39m\u001b[38;5;124m\"\u001b[39m)\n\u001b[1;32m      4\u001b[0m \u001b[38;5;28;01melif\u001b[39;00m marks \u001b[38;5;241m>\u001b[39m\u001b[38;5;241m=\u001b[39m \u001b[38;5;241m60\u001b[39m \u001b[38;5;129;01mand\u001b[39;00m marks \u001b[38;5;241m<\u001b[39m \u001b[38;5;241m80\u001b[39m: \n",
      "\u001b[0;31mTypeError\u001b[0m: '>=' not supported between instances of 'str' and 'int'"
     ]
    }
   ],
   "source": [
    "marks = input(\"Enter your marks\")\n",
    "if marks >= 80:\n",
    "    print(\"You will be a part of A0 batch\")\n",
    "elif marks >= 60 and marks < 80: \n",
    "    print(\"You will bw a part of A1 batch\")\n",
    "elif marks >= 40 and marks < 60:\n",
    "    print(\"You will be a part of A2 batch\")\n",
    "else:\n",
    "    print(\"You will be the part of A3 batch\")\n",
    "    "
   ]
  },
  {
   "cell_type": "code",
   "execution_count": 57,
   "id": "84bdb612-860f-4fde-913e-b9c9360ee4b9",
   "metadata": {},
   "outputs": [
    {
     "data": {
      "text/plain": [
       "'45'"
      ]
     },
     "execution_count": 57,
     "metadata": {},
     "output_type": "execute_result"
    }
   ],
   "source": [
    "marks"
   ]
  },
  {
   "cell_type": "code",
   "execution_count": 61,
   "id": "819c42bd-023b-41e8-b146-a8e7fb90c71b",
   "metadata": {},
   "outputs": [
    {
     "name": "stdin",
     "output_type": "stream",
     "text": [
      "Enter your marks 90\n"
     ]
    },
    {
     "name": "stdout",
     "output_type": "stream",
     "text": [
      "You will be a part of A0 batch\n"
     ]
    }
   ],
   "source": [
    "marks = int(input(\"Enter your marks\"))\n",
    "if marks >= 80:\n",
    "    print(\"You will be a part of A0 batch\")\n",
    "elif marks >= 60 and marks < 80: \n",
    "    print(\"You will bw a part of A1 batch\")\n",
    "elif marks >= 40 and marks < 60:\n",
    "    print(\"You will be a part of A2 batch\")\n",
    "else:\n",
    "    print(\"You will be the part of A3 batch\")\n",
    "    "
   ]
  },
  {
   "cell_type": "code",
   "execution_count": 59,
   "id": "41ee1e62-0702-4c5a-b6b2-0604fe6309de",
   "metadata": {},
   "outputs": [
    {
     "data": {
      "text/plain": [
       "int"
      ]
     },
     "execution_count": 59,
     "metadata": {},
     "output_type": "execute_result"
    }
   ],
   "source": [
    "type(marks)"
   ]
  },
  {
   "cell_type": "code",
   "execution_count": 62,
   "id": "954a6d73-ec09-4b39-82b7-d246eb24f1b0",
   "metadata": {},
   "outputs": [
    {
     "name": "stdin",
     "output_type": "stream",
     "text": [
      "Enter price  500\n"
     ]
    },
    {
     "name": "stdout",
     "output_type": "stream",
     "text": [
      "I will purchase\n"
     ]
    }
   ],
   "source": [
    "price = int(input(\"Enter price \"))\n",
    "if price > 1000:\n",
    "    print('I will not purchase')\n",
    "else:\n",
    "    print(\"I will purchase\")"
   ]
  },
  {
   "cell_type": "code",
   "execution_count": 65,
   "id": "7aef6237-dc17-41a2-8c26-ca9b7eafa5e2",
   "metadata": {},
   "outputs": [
    {
     "name": "stdin",
     "output_type": "stream",
     "text": [
      "Enter price  7000\n"
     ]
    },
    {
     "name": "stdout",
     "output_type": "stream",
     "text": [
      "I will not purchase\n"
     ]
    }
   ],
   "source": [
    "price = int(input(\"Enter price \"))\n",
    "if price > 1000:\n",
    "    print('I will not purchase')\n"
   ]
  },
  {
   "cell_type": "code",
   "execution_count": 66,
   "id": "7d208bc9-4a9c-499d-a698-ec31053c693e",
   "metadata": {},
   "outputs": [
    {
     "name": "stdin",
     "output_type": "stream",
     "text": [
      "Enter price  7000\n"
     ]
    },
    {
     "name": "stdout",
     "output_type": "stream",
     "text": [
      "I will not purchase\n",
      "This is too much\n"
     ]
    }
   ],
   "source": [
    "price = int(input(\"Enter price \"))\n",
    "if price > 1000:\n",
    "    print('I will not purchase')\n",
    "    if price > 5000:\n",
    "        print(\"This is too much\")\n"
   ]
  },
  {
   "cell_type": "code",
   "execution_count": 67,
   "id": "d58a7088-9ae4-45b1-85c9-56baaca71f2c",
   "metadata": {},
   "outputs": [
    {
     "name": "stdin",
     "output_type": "stream",
     "text": [
      "Enter price  1500\n"
     ]
    },
    {
     "name": "stdout",
     "output_type": "stream",
     "text": [
      "I will not purchase\n",
      "its ok\n"
     ]
    }
   ],
   "source": [
    "price = int(input(\"Enter price \"))\n",
    "if price > 1000:\n",
    "    print('I will not purchase')\n",
    "    if price > 5000:\n",
    "        print(\"This is too much\")\n",
    "    elif price < 2000:\n",
    "        print(\"its ok\")\n"
   ]
  },
  {
   "cell_type": "code",
   "execution_count": 70,
   "id": "29332ac7-55f1-42d5-b2ca-6253ede25cde",
   "metadata": {},
   "outputs": [
    {
     "name": "stdin",
     "output_type": "stream",
     "text": [
      "Enter price  1500\n"
     ]
    },
    {
     "name": "stdout",
     "output_type": "stream",
     "text": [
      "I will not purchase\n",
      "its ok\n"
     ]
    }
   ],
   "source": [
    "price = int(input(\"Enter price \"))\n",
    "if price > 1000:\n",
    "    print('I will not purchase')\n",
    "    if price > 5000:\n",
    "        print(\"This is too much\")\n",
    "    elif price < 2000:\n",
    "        print(\"its ok\")\n",
    "elif price < 1000:\n",
    "    print(\"I will purchase\")\n",
    "else:\n",
    "    print(\"Not interested\")"
   ]
  },
  {
   "cell_type": "code",
   "execution_count": 71,
   "id": "6a979fe9-06fc-4fa7-b608-b0c60a4ccde3",
   "metadata": {},
   "outputs": [],
   "source": [
    "# Loops in Pyhton"
   ]
  },
  {
   "cell_type": "code",
   "execution_count": 73,
   "id": "e482f10a-57cb-4768-83ce-efad6914afbb",
   "metadata": {},
   "outputs": [],
   "source": [
    "l =  [1,2,3,4,5,6,7,8]"
   ]
  },
  {
   "cell_type": "code",
   "execution_count": 74,
   "id": "af330d07-1604-4651-99be-0bab2187dab5",
   "metadata": {},
   "outputs": [
    {
     "data": {
      "text/plain": [
       "1"
      ]
     },
     "execution_count": 74,
     "metadata": {},
     "output_type": "execute_result"
    }
   ],
   "source": [
    "l[0]"
   ]
  },
  {
   "cell_type": "code",
   "execution_count": 75,
   "id": "107be5d7-ea29-4410-a4eb-d1a3b3a092ce",
   "metadata": {},
   "outputs": [
    {
     "data": {
      "text/plain": [
       "2"
      ]
     },
     "execution_count": 75,
     "metadata": {},
     "output_type": "execute_result"
    }
   ],
   "source": [
    "l[0] + 1"
   ]
  },
  {
   "cell_type": "code",
   "execution_count": 76,
   "id": "e964f589-9800-48c2-9f43-e6e42d655350",
   "metadata": {},
   "outputs": [],
   "source": [
    "l1 = []"
   ]
  },
  {
   "cell_type": "code",
   "execution_count": 77,
   "id": "a12531aa-bfdd-473a-9203-e5df8faaa7c3",
   "metadata": {},
   "outputs": [],
   "source": [
    "l1.append(l[0] + 1) "
   ]
  },
  {
   "cell_type": "code",
   "execution_count": 78,
   "id": "f24a3abe-ec15-48c8-b12d-1d70679e8e79",
   "metadata": {},
   "outputs": [
    {
     "data": {
      "text/plain": [
       "[2]"
      ]
     },
     "execution_count": 78,
     "metadata": {},
     "output_type": "execute_result"
    }
   ],
   "source": [
    "l1"
   ]
  },
  {
   "cell_type": "code",
   "execution_count": 79,
   "id": "27615c8c-fca5-4cd0-aa38-86691407ce4a",
   "metadata": {},
   "outputs": [
    {
     "data": {
      "text/plain": [
       "[1, 2, 3, 4, 5, 6, 7, 8]"
      ]
     },
     "execution_count": 79,
     "metadata": {},
     "output_type": "execute_result"
    }
   ],
   "source": [
    "l"
   ]
  },
  {
   "cell_type": "code",
   "execution_count": 80,
   "id": "ac523b4d-77ab-41d6-8cb8-0b07de5473cc",
   "metadata": {},
   "outputs": [],
   "source": [
    "# for loop"
   ]
  },
  {
   "cell_type": "code",
   "execution_count": 81,
   "id": "9571e21c-d6d4-4694-adfe-9c772f6fe06d",
   "metadata": {},
   "outputs": [
    {
     "data": {
      "text/plain": [
       "[1, 2, 3, 4, 5, 6, 7, 8]"
      ]
     },
     "execution_count": 81,
     "metadata": {},
     "output_type": "execute_result"
    }
   ],
   "source": [
    "l"
   ]
  },
  {
   "cell_type": "code",
   "execution_count": 82,
   "id": "f6ee55e2-550c-4345-8b43-419e6fd04b3c",
   "metadata": {},
   "outputs": [
    {
     "name": "stdout",
     "output_type": "stream",
     "text": [
      "1\n",
      "2\n",
      "3\n",
      "4\n",
      "5\n",
      "6\n",
      "7\n",
      "8\n"
     ]
    }
   ],
   "source": [
    "for i in l:\n",
    "    print(i)"
   ]
  },
  {
   "cell_type": "code",
   "execution_count": 83,
   "id": "9d20990a-463f-4e82-af80-b0f5e951f752",
   "metadata": {},
   "outputs": [
    {
     "name": "stdout",
     "output_type": "stream",
     "text": [
      "2\n",
      "3\n",
      "4\n",
      "5\n",
      "6\n",
      "7\n",
      "8\n",
      "9\n"
     ]
    }
   ],
   "source": [
    "l1 = []\n",
    "for i in l:\n",
    "    print(i + 1)\n",
    "    l1.append(i + 1)"
   ]
  },
  {
   "cell_type": "code",
   "execution_count": 84,
   "id": "e126dc6b-9af1-4ee9-a796-aa708b289564",
   "metadata": {},
   "outputs": [
    {
     "data": {
      "text/plain": [
       "[2, 3, 4, 5, 6, 7, 8, 9]"
      ]
     },
     "execution_count": 84,
     "metadata": {},
     "output_type": "execute_result"
    }
   ],
   "source": [
    "l1"
   ]
  },
  {
   "cell_type": "code",
   "execution_count": 85,
   "id": "730fd9a2-ea48-4876-b247-9bd007a9121b",
   "metadata": {},
   "outputs": [],
   "source": [
    "l = [\"hayat\", \"khan\", \"pwskills\", \"course\"]"
   ]
  },
  {
   "cell_type": "code",
   "execution_count": 86,
   "id": "7596e02d-cf3a-4225-9c41-4a2dcd25311e",
   "metadata": {},
   "outputs": [
    {
     "name": "stdout",
     "output_type": "stream",
     "text": [
      "hayat\n",
      "khan\n",
      "pwskills\n",
      "course\n"
     ]
    }
   ],
   "source": [
    "for i in l:\n",
    "    print(i)"
   ]
  },
  {
   "cell_type": "code",
   "execution_count": 87,
   "id": "879a194a-5733-4663-9486-34429976aa9c",
   "metadata": {},
   "outputs": [
    {
     "name": "stdout",
     "output_type": "stream",
     "text": [
      "hayat\n",
      "khan\n",
      "pwskills\n",
      "course\n"
     ]
    }
   ],
   "source": [
    "l1 = []\n",
    "for i in l:\n",
    "    print(i)\n",
    "    l1.append(i.upper())"
   ]
  },
  {
   "cell_type": "code",
   "execution_count": 88,
   "id": "d5d9d301-35a5-4393-913a-27ee28fe77d1",
   "metadata": {},
   "outputs": [
    {
     "data": {
      "text/plain": [
       "['HAYAT', 'KHAN', 'PWSKILLS', 'COURSE']"
      ]
     },
     "execution_count": 88,
     "metadata": {},
     "output_type": "execute_result"
    }
   ],
   "source": [
    "l1"
   ]
  },
  {
   "cell_type": "code",
   "execution_count": 90,
   "id": "582a1016-91d9-4555-bb1b-1b0f4aa750cd",
   "metadata": {},
   "outputs": [],
   "source": [
    "l = [1,2,3,4,4,\"hayat\", \"khan\", 324,34,456,\"abc\"]"
   ]
  },
  {
   "cell_type": "code",
   "execution_count": 94,
   "id": "85ccaa06-f2b5-4946-a2a9-b26d34a2e1d4",
   "metadata": {},
   "outputs": [],
   "source": [
    "l1_num = []\n",
    "l2_str = []\n",
    "for i in l:\n",
    "    if type(i) == int or type(i) == float:\n",
    "        l1_num.append(i)\n",
    "    else:\n",
    "        l2_str.append(i)"
   ]
  },
  {
   "cell_type": "code",
   "execution_count": 95,
   "id": "23cba955-420a-45d1-ade5-78f8518eb0ce",
   "metadata": {},
   "outputs": [
    {
     "data": {
      "text/plain": [
       "[1, 2, 3, 4, 4, 324, 34, 456]"
      ]
     },
     "execution_count": 95,
     "metadata": {},
     "output_type": "execute_result"
    }
   ],
   "source": [
    "l1_num"
   ]
  },
  {
   "cell_type": "code",
   "execution_count": 97,
   "id": "52da83db-6283-4a90-9b78-ffa13a4d9d7f",
   "metadata": {},
   "outputs": [
    {
     "data": {
      "text/plain": [
       "['hayat', 'khan', 'abc']"
      ]
     },
     "execution_count": 97,
     "metadata": {},
     "output_type": "execute_result"
    }
   ],
   "source": [
    "l2_str"
   ]
  },
  {
   "cell_type": "code",
   "execution_count": null,
   "id": "3b3c9823-078e-4ef8-92aa-c26359f7e069",
   "metadata": {},
   "outputs": [],
   "source": []
  }
 ],
 "metadata": {
  "kernelspec": {
   "display_name": "Python 3 (ipykernel)",
   "language": "python",
   "name": "python3"
  },
  "language_info": {
   "codemirror_mode": {
    "name": "ipython",
    "version": 3
   },
   "file_extension": ".py",
   "mimetype": "text/x-python",
   "name": "python",
   "nbconvert_exporter": "python",
   "pygments_lexer": "ipython3",
   "version": "3.10.8"
  }
 },
 "nbformat": 4,
 "nbformat_minor": 5
}
